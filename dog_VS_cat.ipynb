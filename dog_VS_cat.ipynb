{
 "cells": [
  {
   "cell_type": "markdown",
   "metadata": {},
   "source": [
    "## Dog Cat Classification"
   ]
  },
  {
   "cell_type": "markdown",
   "metadata": {},
   "source": [
    "### 1 - Package import "
   ]
  },
  {
   "cell_type": "code",
   "execution_count": 23,
   "metadata": {
    "_cell_guid": "b1076dfc-b9ad-4769-8c92-a6c4dae69d19",
    "_uuid": "8f2839f25d086af736a60e9eeb907d3b93b6e0e5",
    "execution": {
     "iopub.execute_input": "2021-12-14T04:22:41.615691Z",
     "iopub.status.busy": "2021-12-14T04:22:41.615351Z",
     "iopub.status.idle": "2021-12-14T04:22:41.628121Z",
     "shell.execute_reply": "2021-12-14T04:22:41.627134Z",
     "shell.execute_reply.started": "2021-12-14T04:22:41.615655Z"
    }
   },
   "outputs": [],
   "source": [
    "import numpy as np # linear algebra\n",
    "import pandas as pd # data processing\n",
    "import matplotlib.pyplot as plt\n",
    "import os\n",
    "import random\n",
    "\n",
    "import tensorflow as tf\n",
    "import tensorflow.keras.layers as tfl\n",
    "\n",
    "from keras.preprocessing.image import ImageDataGenerator, load_img\n",
    "from tensorflow.keras.utils import to_categorical\n",
    "\n",
    "from sklearn.model_selection import train_test_split\n",
    "\n",
    "import warnings\n",
    "warnings.filterwarnings('ignore')"
   ]
  },
  {
   "cell_type": "markdown",
   "metadata": {},
   "source": [
    "### 2 - Data Import"
   ]
  },
  {
   "cell_type": "code",
   "execution_count": 24,
   "metadata": {
    "execution": {
     "iopub.execute_input": "2021-12-14T04:22:41.634477Z",
     "iopub.status.busy": "2021-12-14T04:22:41.633291Z",
     "iopub.status.idle": "2021-12-14T04:22:58.731073Z",
     "shell.execute_reply": "2021-12-14T04:22:58.730306Z",
     "shell.execute_reply.started": "2021-12-14T04:22:41.634416Z"
    }
   },
   "outputs": [],
   "source": [
    "train_path = '../input/dogs-vs-cats/train.zip'\n",
    "test_path = '../input/dogs-vs-cats/test1.zip'\n",
    "\n",
    "destination = '/kaggle/files/images'\n",
    "\n",
    "from zipfile import ZipFile as zipper\n",
    "with zipper(train_path, 'r') as zipp:\n",
    "    zipp.extractall(destination)\n",
    "    \n",
    "with zipper(test_path, 'r') as zipp:\n",
    "    zipp.extractall(destination)"
   ]
  },
  {
   "cell_type": "code",
   "execution_count": 25,
   "metadata": {
    "execution": {
     "iopub.execute_input": "2021-12-14T04:22:58.732837Z",
     "iopub.status.busy": "2021-12-14T04:22:58.732578Z",
     "iopub.status.idle": "2021-12-14T04:22:58.800901Z",
     "shell.execute_reply": "2021-12-14T04:22:58.800091Z",
     "shell.execute_reply.started": "2021-12-14T04:22:58.732802Z"
    }
   },
   "outputs": [],
   "source": [
    "train = pd.DataFrame({'file': os.listdir('/kaggle/files/images/train')})\n",
    "\n",
    "categories = []\n",
    "for i in os.listdir('/kaggle/files/images/train'):\n",
    "    if 'dog' in i:\n",
    "        categories.append(1)\n",
    "    else:\n",
    "        categories.append(0)\n",
    "        \n",
    "train['categories'] = categories\n",
    "\n",
    "test = pd.DataFrame({'file': os.listdir('/kaggle/files/images/test1')})"
   ]
  },
  {
   "cell_type": "markdown",
   "metadata": {},
   "source": [
    "### 3 - See an example "
   ]
  },
  {
   "cell_type": "code",
   "execution_count": 26,
   "metadata": {
    "execution": {
     "iopub.execute_input": "2021-12-14T04:22:58.805421Z",
     "iopub.status.busy": "2021-12-14T04:22:58.805217Z",
     "iopub.status.idle": "2021-12-14T04:22:59.177990Z",
     "shell.execute_reply": "2021-12-14T04:22:59.177119Z",
     "shell.execute_reply.started": "2021-12-14T04:22:58.805396Z"
    }
   },
   "outputs": [],
   "source": [
    "def example_im(index):\n",
    "    '''\n",
    "    Function to display an example image.\n",
    "    \n",
    "    index -- which image in the training set. \n",
    "    '''\n",
    "    im = plt.imread('/kaggle/files/images/train/'+str(train['file'][index]))\n",
    "\n",
    "    print(type(im))\n",
    "    print(im.shape)\n",
    "    print(type(im.shape))\n",
    "    \n",
    "    plt.imshow(im)\n",
    "    plt.axis('off')\n",
    "example_im(1)"
   ]
  },
  {
   "cell_type": "markdown",
   "metadata": {},
   "source": [
    "### 4 - Data Preparation "
   ]
  },
  {
   "cell_type": "code",
   "execution_count": 27,
   "metadata": {
    "execution": {
     "iopub.execute_input": "2021-12-14T04:22:59.184648Z",
     "iopub.status.busy": "2021-12-14T04:22:59.179388Z",
     "iopub.status.idle": "2021-12-14T04:22:59.192471Z",
     "shell.execute_reply": "2021-12-14T04:22:59.191518Z",
     "shell.execute_reply.started": "2021-12-14T04:22:59.184597Z"
    }
   },
   "outputs": [],
   "source": [
    "train['categories'].value_counts()"
   ]
  },
  {
   "cell_type": "markdown",
   "metadata": {},
   "source": [
    "For our data, we have same number of cats and dogs and training data."
   ]
  },
  {
   "cell_type": "code",
   "execution_count": 28,
   "metadata": {
    "execution": {
     "iopub.execute_input": "2021-12-14T04:22:59.194289Z",
     "iopub.status.busy": "2021-12-14T04:22:59.193973Z",
     "iopub.status.idle": "2021-12-14T04:22:59.203269Z",
     "shell.execute_reply": "2021-12-14T04:22:59.202430Z",
     "shell.execute_reply.started": "2021-12-14T04:22:59.194248Z"
    }
   },
   "outputs": [],
   "source": [
    "train.shape"
   ]
  },
  {
   "cell_type": "markdown",
   "metadata": {},
   "source": [
    "The numeric varaible in `categories` columns is mapped to string for later image generation\n",
    "\n",
    "The training data is not a particularly small dataset so we can use `10%` of its data as a `cross validation set`, and `random_state` is set to be 0 for reproductivity."
   ]
  },
  {
   "cell_type": "code",
   "execution_count": 29,
   "metadata": {
    "execution": {
     "iopub.execute_input": "2021-12-14T04:22:59.205136Z",
     "iopub.status.busy": "2021-12-14T04:22:59.204654Z",
     "iopub.status.idle": "2021-12-14T04:22:59.220325Z",
     "shell.execute_reply": "2021-12-14T04:22:59.219269Z",
     "shell.execute_reply.started": "2021-12-14T04:22:59.204980Z"
    }
   },
   "outputs": [],
   "source": [
    "train['categories'] = train['categories'].replace({0: 'cat', 1: 'dog'})\n",
    "train_set, val_set = train_test_split(train, test_size=0.1, random_state = 0)"
   ]
  },
  {
   "cell_type": "code",
   "execution_count": 30,
   "metadata": {
    "execution": {
     "iopub.execute_input": "2021-12-14T04:22:59.222943Z",
     "iopub.status.busy": "2021-12-14T04:22:59.222730Z",
     "iopub.status.idle": "2021-12-14T04:22:59.505945Z",
     "shell.execute_reply": "2021-12-14T04:22:59.505153Z",
     "shell.execute_reply.started": "2021-12-14T04:22:59.222918Z"
    }
   },
   "outputs": [],
   "source": [
    "train_gen = ImageDataGenerator(rescale=1./255)\n",
    "val_gen = ImageDataGenerator(rescale=1./255)\n",
    "\n",
    "batch_size = 64\n",
    "\n",
    "train_generator = train_gen.flow_from_dataframe(\n",
    "    dataframe = train_set,\n",
    "    directory = destination + '/train/', # file path format\n",
    "    x_col = 'file',\n",
    "    y_col = 'categories',\n",
    "    class_mode = 'categorical',\n",
    "    target_size = (224,224),\n",
    "    batch_size = batch_size\n",
    ")\n",
    "\n",
    "\n",
    "validation_generator = val_gen.flow_from_dataframe(\n",
    "    dataframe = val_set,\n",
    "    directory = destination + '/train/',\n",
    "    x_col = 'file',\n",
    "    y_col = 'categories',\n",
    "    class_mode = 'categorical',\n",
    "    target_size = (224,224),\n",
    "    batch_size = batch_size\n",
    ")"
   ]
  },
  {
   "cell_type": "code",
   "execution_count": 31,
   "metadata": {
    "execution": {
     "iopub.execute_input": "2021-12-14T04:22:59.508136Z",
     "iopub.status.busy": "2021-12-14T04:22:59.507221Z",
     "iopub.status.idle": "2021-12-14T04:23:00.926779Z",
     "shell.execute_reply": "2021-12-14T04:23:00.925884Z",
     "shell.execute_reply.started": "2021-12-14T04:22:59.508092Z"
    }
   },
   "outputs": [],
   "source": [
    "def mini_batch_example_plot(df):\n",
    "\n",
    "    example_generator = train_gen.flow_from_dataframe(\n",
    "        dataframe = df,\n",
    "        directory = destination + '/train/',\n",
    "        x_col = 'file',\n",
    "        y_col = 'categories',\n",
    "        class_mode = 'categorical',\n",
    "        target_size = (224,224)\n",
    "    )\n",
    "    \n",
    "    fig, ax  = plt.subplots(2,4,figsize=(12, 12))\n",
    "    ax = ax.flatten()\n",
    "    \n",
    "    for i in range(8):\n",
    "        X, Y = next(example_generator)\n",
    "        image = X[0]\n",
    "        ax[i].imshow(image)\n",
    "        ax[i].axis('off')\n",
    "    \n",
    "    \n",
    "mini_batch_example_plot(train_set)"
   ]
  },
  {
   "cell_type": "markdown",
   "metadata": {},
   "source": [
    "### 5 - CNN model construction"
   ]
  },
  {
   "cell_type": "code",
   "execution_count": 65,
   "metadata": {
    "execution": {
     "iopub.execute_input": "2021-12-14T05:45:34.812512Z",
     "iopub.status.busy": "2021-12-14T05:45:34.811958Z",
     "iopub.status.idle": "2021-12-14T05:45:34.831549Z",
     "shell.execute_reply": "2021-12-14T05:45:34.830740Z",
     "shell.execute_reply.started": "2021-12-14T05:45:34.812471Z"
    }
   },
   "outputs": [],
   "source": [
    "from numpy.random import seed\n",
    "seed(1)\n",
    "\n",
    "tf.random.set_seed(2)"
   ]
  },
  {
   "cell_type": "code",
   "execution_count": 32,
   "metadata": {
    "execution": {
     "iopub.execute_input": "2021-12-14T04:23:00.930095Z",
     "iopub.status.busy": "2021-12-14T04:23:00.929622Z",
     "iopub.status.idle": "2021-12-14T04:23:00.938241Z",
     "shell.execute_reply": "2021-12-14T04:23:00.934806Z",
     "shell.execute_reply.started": "2021-12-14T04:23:00.930060Z"
    }
   },
   "outputs": [],
   "source": [
    "from tensorflow.keras.layers import (\n",
    "    BatchNormalization, Conv2D, MaxPooling2D, Activation, Flatten, Dropout, Dense\n",
    ")\n",
    "\n",
    "from tensorflow.keras.layers.experimental.preprocessing import RandomFlip, RandomRotation\n"
   ]
  },
  {
   "cell_type": "code",
   "execution_count": 33,
   "metadata": {
    "execution": {
     "iopub.execute_input": "2021-12-14T04:23:00.939355Z",
     "iopub.status.busy": "2021-12-14T04:23:00.939177Z",
     "iopub.status.idle": "2021-12-14T04:23:00.951177Z",
     "shell.execute_reply": "2021-12-14T04:23:00.950464Z",
     "shell.execute_reply.started": "2021-12-14T04:23:00.939333Z"
    }
   },
   "outputs": [],
   "source": [
    "# set constants\n",
    "(IMAGE_WIDTH, IMAGE_HEIGHT, IMAGE_CHANNELS) = (224,224,3)\n",
    "IMAGE_SIZE  = (IMAGE_WIDTH, IMAGE_HEIGHT)\n",
    "IMAGE_SHAPE = (224,224,3)"
   ]
  },
  {
   "cell_type": "code",
   "execution_count": 34,
   "metadata": {
    "execution": {
     "iopub.execute_input": "2021-12-14T04:23:00.952625Z",
     "iopub.status.busy": "2021-12-14T04:23:00.952323Z",
     "iopub.status.idle": "2021-12-14T04:23:01.155868Z",
     "shell.execute_reply": "2021-12-14T04:23:01.155086Z",
     "shell.execute_reply.started": "2021-12-14T04:23:00.952599Z"
    }
   },
   "outputs": [],
   "source": [
    "def shallow_CNN_Model(image_shape, augmentation = False):\n",
    "    '''\n",
    "    This creates a shallow CNN model, the structure uses the idea from VGG-16\n",
    "    '''\n",
    "    if (augmentation == True):\n",
    "        model = tf.keras.Sequential([RandomFlip(\"horizontal\",input_shape = image_shape),\n",
    "                   RandomRotation(0.1)])\n",
    "    else: \n",
    "        model = tf.keras.Sequential()\n",
    "\n",
    "    model.add(Conv2D(32, (3, 3), activation='relu', input_shape = image_shape))\n",
    "    model.add(Conv2D(32, (3, 3), activation='relu'))\n",
    "    model.add(BatchNormalization())\n",
    "    model.add(MaxPooling2D(pool_size=(2, 2)))\n",
    "    model.add(Dropout(0.25))\n",
    "\n",
    "    model.add(Conv2D(64, (3, 3), activation='relu'))\n",
    "    model.add(Conv2D(64, (3, 3), activation='relu'))\n",
    "    model.add(BatchNormalization())\n",
    "    model.add(MaxPooling2D(pool_size=(2, 2)))\n",
    "    model.add(Dropout(0.25))\n",
    "\n",
    "    model.add(Conv2D(128, (3, 3), activation='relu'))\n",
    "    model.add(Conv2D(128, (3, 3), activation='relu'))\n",
    "    model.add(BatchNormalization())\n",
    "    model.add(MaxPooling2D(pool_size=(2, 2)))\n",
    "    model.add(Dropout(0.25))\n",
    "\n",
    "    model.add(Flatten())\n",
    "    model.add(Dense(512, activation='relu'))\n",
    "    model.add(BatchNormalization())\n",
    "    model.add(Dropout(0.5))\n",
    "    model.add(Dense(2, activation='softmax'))\n",
    "\n",
    "    return model"
   ]
  },
  {
   "cell_type": "code",
   "execution_count": 35,
   "metadata": {
    "execution": {
     "iopub.execute_input": "2021-12-14T04:23:01.157567Z",
     "iopub.status.busy": "2021-12-14T04:23:01.157113Z",
     "iopub.status.idle": "2021-12-14T04:23:01.496827Z",
     "shell.execute_reply": "2021-12-14T04:23:01.495856Z",
     "shell.execute_reply.started": "2021-12-14T04:23:01.157517Z"
    }
   },
   "outputs": [],
   "source": [
    "model = shallow_CNN_Model(IMAGE_SHAPE)\n",
    "model_augmented = shallow_CNN_Model(IMAGE_SHAPE,True)\n",
    "\n",
    "model.compile(loss='categorical_crossentropy', optimizer='adam', metrics=['accuracy'])\n",
    "model_augmented.compile(loss='categorical_crossentropy', optimizer='adam', metrics=['accuracy'])\n",
    "\n",
    "model.summary()"
   ]
  },
  {
   "cell_type": "markdown",
   "metadata": {},
   "source": [
    "### 6 - Early stopping after seeing no decrease in loss over 5 epoches"
   ]
  },
  {
   "cell_type": "code",
   "execution_count": 36,
   "metadata": {
    "execution": {
     "iopub.execute_input": "2021-12-14T04:23:01.498359Z",
     "iopub.status.busy": "2021-12-14T04:23:01.498081Z",
     "iopub.status.idle": "2021-12-14T04:23:01.504045Z",
     "shell.execute_reply": "2021-12-14T04:23:01.502984Z",
     "shell.execute_reply.started": "2021-12-14T04:23:01.498311Z"
    }
   },
   "outputs": [],
   "source": [
    "from tensorflow.keras.callbacks import EarlyStopping\n",
    "\n",
    "earlystop = EarlyStopping(patience=5)"
   ]
  },
  {
   "cell_type": "code",
   "execution_count": 37,
   "metadata": {
    "execution": {
     "iopub.execute_input": "2021-12-14T04:23:01.505930Z",
     "iopub.status.busy": "2021-12-14T04:23:01.505566Z",
     "iopub.status.idle": "2021-12-14T04:23:01.514309Z",
     "shell.execute_reply": "2021-12-14T04:23:01.513492Z",
     "shell.execute_reply.started": "2021-12-14T04:23:01.505783Z"
    }
   },
   "outputs": [],
   "source": [
    "def model_fitting(model, callbacks, epochs):\n",
    "    '''\n",
    "    This is a function used to fit generator, with customized input \n",
    "    model, callbacks, and epochs. \n",
    "    '''\n",
    "    return model.fit_generator(\n",
    "        train_generator, \n",
    "        epochs = epochs,\n",
    "        validation_data = validation_generator,\n",
    "        validation_steps = val_set.shape[0]//64,\n",
    "        steps_per_epoch = train_set.shape[0]//64,\n",
    "        callbacks = callbacks \n",
    "    )\n",
    "    "
   ]
  },
  {
   "cell_type": "markdown",
   "metadata": {},
   "source": [
    "### 7 - Fitting"
   ]
  },
  {
   "cell_type": "markdown",
   "metadata": {},
   "source": [
    "In previous test, the dataset not being augmented performs worse than augmented dataset on validation set, showing a sign of overfitting in training set.  "
   ]
  },
  {
   "cell_type": "code",
   "execution_count": 38,
   "metadata": {
    "execution": {
     "iopub.execute_input": "2021-12-14T04:23:01.515641Z",
     "iopub.status.busy": "2021-12-14T04:23:01.515394Z",
     "iopub.status.idle": "2021-12-14T04:23:01.527221Z",
     "shell.execute_reply": "2021-12-14T04:23:01.526348Z",
     "shell.execute_reply.started": "2021-12-14T04:23:01.515611Z"
    }
   },
   "outputs": [],
   "source": [
    "# history_epoch50 = model_fitting(model, [earlystop], epochs = 50)"
   ]
  },
  {
   "cell_type": "code",
   "execution_count": 39,
   "metadata": {
    "execution": {
     "iopub.execute_input": "2021-12-14T04:23:01.530719Z",
     "iopub.status.busy": "2021-12-14T04:23:01.529750Z",
     "iopub.status.idle": "2021-12-14T05:32:53.575627Z",
     "shell.execute_reply": "2021-12-14T05:32:53.574890Z",
     "shell.execute_reply.started": "2021-12-14T04:23:01.530677Z"
    }
   },
   "outputs": [],
   "source": [
    "history_epoch50_augmented = model_fitting(model_augmented, [earlystop], epochs = 50)"
   ]
  },
  {
   "cell_type": "code",
   "execution_count": 45,
   "metadata": {
    "execution": {
     "iopub.execute_input": "2021-12-14T05:38:05.153004Z",
     "iopub.status.busy": "2021-12-14T05:38:05.152124Z",
     "iopub.status.idle": "2021-12-14T05:38:05.493151Z",
     "shell.execute_reply": "2021-12-14T05:38:05.492416Z",
     "shell.execute_reply.started": "2021-12-14T05:38:05.152957Z"
    }
   },
   "outputs": [],
   "source": [
    "model_augmented.save_weights('model_augmented_weights.h5')"
   ]
  },
  {
   "cell_type": "code",
   "execution_count": 46,
   "metadata": {
    "execution": {
     "iopub.execute_input": "2021-12-14T05:38:16.563079Z",
     "iopub.status.busy": "2021-12-14T05:38:16.562290Z",
     "iopub.status.idle": "2021-12-14T05:38:16.573177Z",
     "shell.execute_reply": "2021-12-14T05:38:16.572340Z",
     "shell.execute_reply.started": "2021-12-14T05:38:16.563040Z"
    }
   },
   "outputs": [],
   "source": [
    "\n",
    "def plotting_loss(history,upper_bound):\n",
    "\n",
    "    fig, (ax1, ax2) = plt.subplots(2, 1, figsize=(10, 4))\n",
    "    ax1.plot(history.history['loss'], color='b', label=\"Training loss\")\n",
    "    ax1.plot(history.history['val_loss'], color='r', label=\"validation loss\")\n",
    "    ax1.set_xticks(np.arange(1, upper_bound, 1))\n",
    "    ax1.set_yticks(np.arange(0, 1, 0.1))\n",
    "\n",
    "    ax2.plot(history.history['accuracy'], color='b', label=\"Training accuracy\")\n",
    "    ax2.plot(history.history['val_accuracy'], color='r',label=\"Validation accuracy\")\n",
    "    ax2.set_xticks(np.arange(1, upper_bound, 1))\n",
    "\n",
    "    legend = plt.legend(loc='best', shadow=True)\n",
    "    plt.tight_layout()\n",
    "    plt.show()\n"
   ]
  },
  {
   "cell_type": "code",
   "execution_count": 47,
   "metadata": {
    "execution": {
     "iopub.execute_input": "2021-12-14T05:38:17.195688Z",
     "iopub.status.busy": "2021-12-14T05:38:17.194987Z",
     "iopub.status.idle": "2021-12-14T05:38:17.198851Z",
     "shell.execute_reply": "2021-12-14T05:38:17.198157Z",
     "shell.execute_reply.started": "2021-12-14T05:38:17.195650Z"
    }
   },
   "outputs": [],
   "source": [
    "# plotting_loss(history_epoch50, 50)"
   ]
  },
  {
   "cell_type": "code",
   "execution_count": 49,
   "metadata": {
    "execution": {
     "iopub.execute_input": "2021-12-14T05:38:25.521940Z",
     "iopub.status.busy": "2021-12-14T05:38:25.521363Z",
     "iopub.status.idle": "2021-12-14T05:38:26.291035Z",
     "shell.execute_reply": "2021-12-14T05:38:26.290323Z",
     "shell.execute_reply.started": "2021-12-14T05:38:25.521895Z"
    }
   },
   "outputs": [],
   "source": [
    "plotting_loss(history_epoch50_augmented, 40)"
   ]
  }
 ],
 "metadata": {
  "kernelspec": {
   "display_name": "Python 3",
   "language": "python",
   "name": "python3"
  },
  "language_info": {
   "codemirror_mode": {
    "name": "ipython",
    "version": 3
   },
   "file_extension": ".py",
   "mimetype": "text/x-python",
   "name": "python",
   "nbconvert_exporter": "python",
   "pygments_lexer": "ipython3",
   "version": "3.8.8"
  }
 },
 "nbformat": 4,
 "nbformat_minor": 4
}
